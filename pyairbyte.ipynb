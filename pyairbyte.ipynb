{
 "cells": [
  {
   "cell_type": "code",
   "execution_count": 2,
   "id": "44638173-b336-442f-975e-e8c918d2794d",
   "metadata": {},
   "outputs": [
    {
     "name": "stdout",
     "output_type": "stream",
     "text": [
      "Writing `source-yahoo-finance-price` logs to file: C:\\Users\\a940591\\AppData\\Local\\Temp\\airbyte\\logs\\source-yahoo-finance-price\\source-yahoo-finance-price-log-JVCJ18ZFX.log\n"
     ]
    },
    {
     "data": {
      "text/html": [
       "<pre style=\"white-space:pre;overflow-x:auto;line-height:normal;font-family:Menlo,'DejaVu Sans Mono',consolas,'Courier New',monospace\">Connection check succeeded for `source-yahoo-finance-price`.\n",
       "</pre>\n"
      ],
      "text/plain": [
       "Connection check succeeded for `source-yahoo-finance-price`.\n"
      ]
     },
     "metadata": {},
     "output_type": "display_data"
    },
    {
     "name": "stderr",
     "output_type": "stream",
     "text": [
      "UserWarning: Failed to remove temporary file: 'C:\\Users\\a940591\\AppData\\Local\\Temp\\tmpu53st9rx.json'. [WinError 5] Accès refusé: 'C:\\\\Users\\\\a940591\\\\AppData\\\\Local\\\\Temp\\\\tmpu53st9rx.json'\n"
     ]
    }
   ],
   "source": [
    "import airbyte as ab\n",
    "\n",
    "# Retrieve the source\n",
    "source = ab.get_source(\n",
    "   \"source-yahoo-finance-price\",\n",
    "   install_if_missing=True,\n",
    "   config={\n",
    "       \"tickers\": \"AAPL, MSFT, GOOGL\",\n",
    "       \"interval\": \"1d\",\n",
    "       \"range\": \"1y\"\n",
    "   }\n",
    ")\n",
    "\n",
    "source.check()"
   ]
  },
  {
   "cell_type": "code",
   "execution_count": 3,
   "id": "582f893f-6208-4e43-87d0-dd967d95bbc4",
   "metadata": {},
   "outputs": [
    {
     "name": "stderr",
     "output_type": "stream",
     "text": [
      "UserWarning: Failed to remove temporary file: 'C:\\Users\\a940591\\AppData\\Local\\Temp\\tmpdk2ukyff.json'. [WinError 5] Accès refusé: 'C:\\\\Users\\\\a940591\\\\AppData\\\\Local\\\\Temp\\\\tmpdk2ukyff.json'\n"
     ]
    },
    {
     "data": {
      "text/plain": [
       "['price']"
      ]
     },
     "execution_count": 3,
     "metadata": {},
     "output_type": "execute_result"
    }
   ],
   "source": [
    "source.get_available_streams()"
   ]
  },
  {
   "cell_type": "code",
   "execution_count": 4,
   "id": "a1f1f43a-e278-4709-b30e-a8f5baff0a38",
   "metadata": {},
   "outputs": [],
   "source": [
    "source.select_all_streams()"
   ]
  },
  {
   "cell_type": "code",
   "execution_count": 5,
   "id": "7a0a436c-0f11-42aa-9f7b-d823a72bc7b3",
   "metadata": {},
   "outputs": [
    {
     "data": {
      "text/markdown": [
       "------------------------------------------------\n",
       "\n",
       "### Sync Progress: `source-yahoo-finance-price -> DuckDBCache`\n",
       "\n",
       "**Started reading from source at `14:46:58`:**\n",
       "\n",
       "- Read **3** records over **44 seconds** (0.1 records/s, 0.00 MB/s).\n",
       "\n",
       "- Received records for 1 streams:\n",
       "  - 3 price\n",
       "\n",
       "\n",
       "\n",
       "\n",
       "------------------------------------------------\n"
      ],
      "text/plain": [
       "<IPython.core.display.Markdown object>"
      ]
     },
     "metadata": {},
     "output_type": "display_data"
    },
    {
     "ename": "AirbyteConnectorFailedError",
     "evalue": "Connector failed. (AirbyteConnectorFailedError)\n------------------------------------------------------------\nAirbyteConnectorFailedError: Connector failed.\n    Please review the log file for more information.\n    Connector Name: 'source-yahoo-finance-price'\n------------------------------------------------------------\nCaused by: None\n    Log file: C:\\Users\\a940591\\AppData\\Local\\Temp\\airbyte\\logs\\source-yahoo-finance-price\\source-yahoo-finance-price-log-JVCJ18ZFX.log",
     "output_type": "error",
     "traceback": [
      "\u001b[31m---------------------------------------------------------------------------\u001b[39m",
      "\u001b[31mAirbyteConnectorFailedError\u001b[39m               Traceback (most recent call last)",
      "\u001b[36mCell\u001b[39m\u001b[36m \u001b[39m\u001b[32mIn[5]\u001b[39m\u001b[32m, line 2\u001b[39m\n\u001b[32m      1\u001b[39m cache = ab.get_default_cache()\n\u001b[32m----> \u001b[39m\u001b[32m2\u001b[39m result = \u001b[43msource\u001b[49m\u001b[43m.\u001b[49m\u001b[43mread\u001b[49m\u001b[43m(\u001b[49m\u001b[43mcache\u001b[49m\u001b[43m=\u001b[49m\u001b[43mcache\u001b[49m\u001b[43m)\u001b[49m\n",
      "\u001b[36mFile \u001b[39m\u001b[32m~\\Stage_Eviden\\myenv\\Lib\\site-packages\\airbyte\\sources\\base.py:659\u001b[39m, in \u001b[36mSource.read\u001b[39m\u001b[34m(self, cache, streams, write_strategy, force_full_refresh, skip_validation)\u001b[39m\n\u001b[32m    653\u001b[39m     \u001b[38;5;28;01mraise\u001b[39;00m exc.PyAirbyteNoStreamsSelectedError(\n\u001b[32m    654\u001b[39m         connector_name=\u001b[38;5;28mself\u001b[39m.name,\n\u001b[32m    655\u001b[39m         available_streams=\u001b[38;5;28mself\u001b[39m.get_available_streams(),\n\u001b[32m    656\u001b[39m     )\n\u001b[32m    658\u001b[39m \u001b[38;5;28;01mtry\u001b[39;00m:\n\u001b[32m--> \u001b[39m\u001b[32m659\u001b[39m     result = \u001b[38;5;28;43mself\u001b[39;49m\u001b[43m.\u001b[49m\u001b[43m_read_to_cache\u001b[49m\u001b[43m(\u001b[49m\n\u001b[32m    660\u001b[39m \u001b[43m        \u001b[49m\u001b[43mcache\u001b[49m\u001b[43m=\u001b[49m\u001b[43mcache\u001b[49m\u001b[43m,\u001b[49m\n\u001b[32m    661\u001b[39m \u001b[43m        \u001b[49m\u001b[43mcatalog_provider\u001b[49m\u001b[43m=\u001b[49m\u001b[43mCatalogProvider\u001b[49m\u001b[43m(\u001b[49m\u001b[38;5;28;43mself\u001b[39;49m\u001b[43m.\u001b[49m\u001b[43mconfigured_catalog\u001b[49m\u001b[43m)\u001b[49m\u001b[43m,\u001b[49m\n\u001b[32m    662\u001b[39m \u001b[43m        \u001b[49m\u001b[43mstream_names\u001b[49m\u001b[43m=\u001b[49m\u001b[38;5;28;43mself\u001b[39;49m\u001b[43m.\u001b[49m\u001b[43m_selected_stream_names\u001b[49m\u001b[43m,\u001b[49m\n\u001b[32m    663\u001b[39m \u001b[43m        \u001b[49m\u001b[43mstate_provider\u001b[49m\u001b[43m=\u001b[49m\u001b[43mstate_provider\u001b[49m\u001b[43m,\u001b[49m\n\u001b[32m    664\u001b[39m \u001b[43m        \u001b[49m\u001b[43mstate_writer\u001b[49m\u001b[43m=\u001b[49m\u001b[43mstate_writer\u001b[49m\u001b[43m,\u001b[49m\n\u001b[32m    665\u001b[39m \u001b[43m        \u001b[49m\u001b[43mwrite_strategy\u001b[49m\u001b[43m=\u001b[49m\u001b[43mwrite_strategy\u001b[49m\u001b[43m,\u001b[49m\n\u001b[32m    666\u001b[39m \u001b[43m        \u001b[49m\u001b[43mforce_full_refresh\u001b[49m\u001b[43m=\u001b[49m\u001b[43mforce_full_refresh\u001b[49m\u001b[43m,\u001b[49m\n\u001b[32m    667\u001b[39m \u001b[43m        \u001b[49m\u001b[43mskip_validation\u001b[49m\u001b[43m=\u001b[49m\u001b[43mskip_validation\u001b[49m\u001b[43m,\u001b[49m\n\u001b[32m    668\u001b[39m \u001b[43m        \u001b[49m\u001b[43mprogress_tracker\u001b[49m\u001b[43m=\u001b[49m\u001b[43mprogress_tracker\u001b[49m\u001b[43m,\u001b[49m\n\u001b[32m    669\u001b[39m \u001b[43m    \u001b[49m\u001b[43m)\u001b[49m\n\u001b[32m    670\u001b[39m \u001b[38;5;28;01mexcept\u001b[39;00m exc.PyAirbyteInternalError \u001b[38;5;28;01mas\u001b[39;00m ex:\n\u001b[32m    671\u001b[39m     progress_tracker.log_failure(exception=ex)\n",
      "\u001b[36mFile \u001b[39m\u001b[32m~\\Stage_Eviden\\myenv\\Lib\\site-packages\\airbyte\\sources\\base.py:743\u001b[39m, in \u001b[36mSource._read_to_cache\u001b[39m\u001b[34m(self, cache, catalog_provider, stream_names, state_provider, state_writer, write_strategy, force_full_refresh, skip_validation, progress_tracker)\u001b[39m\n\u001b[32m    734\u001b[39m         \u001b[38;5;28mself\u001b[39m._log_incremental_streams(incremental_streams=incremental_streams)\n\u001b[32m    736\u001b[39m airbyte_message_iterator = AirbyteMessageIterator(\n\u001b[32m    737\u001b[39m     \u001b[38;5;28mself\u001b[39m._read_with_catalog(\n\u001b[32m    738\u001b[39m         catalog=catalog_provider.configured_catalog,\n\u001b[32m   (...)\u001b[39m\u001b[32m    741\u001b[39m     )\n\u001b[32m    742\u001b[39m )\n\u001b[32m--> \u001b[39m\u001b[32m743\u001b[39m \u001b[43mcache\u001b[49m\u001b[43m.\u001b[49m\u001b[43m_write_airbyte_message_stream\u001b[49m\u001b[43m(\u001b[49m\u001b[43m  \u001b[49m\u001b[38;5;66;43;03m# noqa: SLF001  # Non-public API\u001b[39;49;00m\n\u001b[32m    744\u001b[39m \u001b[43m    \u001b[49m\u001b[43mstdin\u001b[49m\u001b[43m=\u001b[49m\u001b[43mairbyte_message_iterator\u001b[49m\u001b[43m,\u001b[49m\n\u001b[32m    745\u001b[39m \u001b[43m    \u001b[49m\u001b[43mcatalog_provider\u001b[49m\u001b[43m=\u001b[49m\u001b[43mcatalog_provider\u001b[49m\u001b[43m,\u001b[49m\n\u001b[32m    746\u001b[39m \u001b[43m    \u001b[49m\u001b[43mwrite_strategy\u001b[49m\u001b[43m=\u001b[49m\u001b[43mwrite_strategy\u001b[49m\u001b[43m,\u001b[49m\n\u001b[32m    747\u001b[39m \u001b[43m    \u001b[49m\u001b[43mstate_writer\u001b[49m\u001b[43m=\u001b[49m\u001b[43mstate_writer\u001b[49m\u001b[43m,\u001b[49m\n\u001b[32m    748\u001b[39m \u001b[43m    \u001b[49m\u001b[43mprogress_tracker\u001b[49m\u001b[43m=\u001b[49m\u001b[43mprogress_tracker\u001b[49m\u001b[43m,\u001b[49m\n\u001b[32m    749\u001b[39m \u001b[43m\u001b[49m\u001b[43m)\u001b[49m\n\u001b[32m    751\u001b[39m \u001b[38;5;66;03m# Flush the WAL, if applicable\u001b[39;00m\n\u001b[32m    752\u001b[39m cache.processor._do_checkpoint()  \u001b[38;5;66;03m# noqa: SLF001  # Non-public API\u001b[39;00m\n",
      "\u001b[36mFile \u001b[39m\u001b[32m~\\Stage_Eviden\\myenv\\Lib\\site-packages\\airbyte\\caches\\base.py:362\u001b[39m, in \u001b[36mCacheBase._write_airbyte_message_stream\u001b[39m\u001b[34m(self, stdin, catalog_provider, write_strategy, state_writer, progress_tracker)\u001b[39m\n\u001b[32m    356\u001b[39m \u001b[38;5;250m\u001b[39m\u001b[33;03m\"\"\"Read from the connector and write to the cache.\"\"\"\u001b[39;00m\n\u001b[32m    357\u001b[39m cache_processor = \u001b[38;5;28mself\u001b[39m.get_record_processor(\n\u001b[32m    358\u001b[39m     source_name=\u001b[38;5;28mself\u001b[39m.name,\n\u001b[32m    359\u001b[39m     catalog_provider=catalog_provider,\n\u001b[32m    360\u001b[39m     state_writer=state_writer,\n\u001b[32m    361\u001b[39m )\n\u001b[32m--> \u001b[39m\u001b[32m362\u001b[39m \u001b[43mcache_processor\u001b[49m\u001b[43m.\u001b[49m\u001b[43mprocess_airbyte_messages\u001b[49m\u001b[43m(\u001b[49m\n\u001b[32m    363\u001b[39m \u001b[43m    \u001b[49m\u001b[43mmessages\u001b[49m\u001b[43m=\u001b[49m\u001b[43mstdin\u001b[49m\u001b[43m,\u001b[49m\n\u001b[32m    364\u001b[39m \u001b[43m    \u001b[49m\u001b[43mwrite_strategy\u001b[49m\u001b[43m=\u001b[49m\u001b[43mwrite_strategy\u001b[49m\u001b[43m,\u001b[49m\n\u001b[32m    365\u001b[39m \u001b[43m    \u001b[49m\u001b[43mprogress_tracker\u001b[49m\u001b[43m=\u001b[49m\u001b[43mprogress_tracker\u001b[49m\u001b[43m,\u001b[49m\n\u001b[32m    366\u001b[39m \u001b[43m\u001b[49m\u001b[43m)\u001b[49m\n\u001b[32m    367\u001b[39m progress_tracker.log_cache_processing_complete()\n",
      "\u001b[36mFile \u001b[39m\u001b[32m~\\Stage_Eviden\\myenv\\Lib\\site-packages\\airbyte\\shared\\sql_processor.py:268\u001b[39m, in \u001b[36mSqlProcessorBase.process_airbyte_messages\u001b[39m\u001b[34m(self, messages, write_strategy, progress_tracker)\u001b[39m\n\u001b[32m    265\u001b[39m stream_record_handlers: \u001b[38;5;28mdict\u001b[39m[\u001b[38;5;28mstr\u001b[39m, StreamRecordHandler] = {}\n\u001b[32m    267\u001b[39m \u001b[38;5;66;03m# Process messages, writing to batches as we go\u001b[39;00m\n\u001b[32m--> \u001b[39m\u001b[32m268\u001b[39m \u001b[43m\u001b[49m\u001b[38;5;28;43;01mfor\u001b[39;49;00m\u001b[43m \u001b[49m\u001b[43mmessage\u001b[49m\u001b[43m \u001b[49m\u001b[38;5;129;43;01min\u001b[39;49;00m\u001b[43m \u001b[49m\u001b[43mmessages\u001b[49m\u001b[43m:\u001b[49m\n\u001b[32m    269\u001b[39m \u001b[43m    \u001b[49m\u001b[38;5;28;43;01mif\u001b[39;49;00m\u001b[43m \u001b[49m\u001b[43mmessage\u001b[49m\u001b[43m.\u001b[49m\u001b[43mtype\u001b[49m\u001b[43m \u001b[49m\u001b[38;5;129;43;01mis\u001b[39;49;00m\u001b[43m \u001b[49m\u001b[43mType\u001b[49m\u001b[43m.\u001b[49m\u001b[43mRECORD\u001b[49m\u001b[43m:\u001b[49m\n\u001b[32m    270\u001b[39m \u001b[43m        \u001b[49m\u001b[43mrecord_msg\u001b[49m\u001b[43m \u001b[49m\u001b[43m=\u001b[49m\u001b[43m \u001b[49m\u001b[43mcast\u001b[49m\u001b[43m(\u001b[49m\u001b[33;43m\"\u001b[39;49m\u001b[33;43mAirbyteRecordMessage\u001b[39;49m\u001b[33;43m\"\u001b[39;49m\u001b[43m,\u001b[49m\u001b[43m \u001b[49m\u001b[43mmessage\u001b[49m\u001b[43m.\u001b[49m\u001b[43mrecord\u001b[49m\u001b[43m)\u001b[49m\n",
      "\u001b[36mFile \u001b[39m\u001b[32m~\\Stage_Eviden\\myenv\\Lib\\site-packages\\airbyte\\sources\\base.py:572\u001b[39m, in \u001b[36mSource._read_with_catalog\u001b[39m\u001b[34m(self, catalog, progress_tracker, state)\u001b[39m\n\u001b[32m    549\u001b[39m \u001b[38;5;28;01mwith\u001b[39;00m as_temp_files(\n\u001b[32m    550\u001b[39m     [\n\u001b[32m    551\u001b[39m         \u001b[38;5;28mself\u001b[39m._config,\n\u001b[32m   (...)\u001b[39m\u001b[32m    558\u001b[39m     state_file,\n\u001b[32m    559\u001b[39m ]:\n\u001b[32m    560\u001b[39m     message_generator = \u001b[38;5;28mself\u001b[39m._execute(\n\u001b[32m    561\u001b[39m         [\n\u001b[32m    562\u001b[39m             \u001b[33m\"\u001b[39m\u001b[33mread\u001b[39m\u001b[33m\"\u001b[39m,\n\u001b[32m   (...)\u001b[39m\u001b[32m    570\u001b[39m         progress_tracker=progress_tracker,\n\u001b[32m    571\u001b[39m     )\n\u001b[32m--> \u001b[39m\u001b[32m572\u001b[39m     \u001b[38;5;28;01myield from\u001b[39;00m progress_tracker.tally_records_read(message_generator)\n\u001b[32m    573\u001b[39m progress_tracker.log_read_complete()\n",
      "\u001b[36mFile \u001b[39m\u001b[32m~\\Stage_Eviden\\myenv\\Lib\\site-packages\\airbyte\\progress.py:261\u001b[39m, in \u001b[36mProgressTracker.tally_records_read\u001b[39m\u001b[34m(self, messages, auto_close_streams)\u001b[39m\n\u001b[32m    257\u001b[39m \u001b[38;5;28mself\u001b[39m._update_display()\n\u001b[32m    259\u001b[39m update_period = \u001b[32m1\u001b[39m  \u001b[38;5;66;03m# Reset the update period to 1 before start.\u001b[39;00m\n\u001b[32m--> \u001b[39m\u001b[32m261\u001b[39m \u001b[43m\u001b[49m\u001b[38;5;28;43;01mfor\u001b[39;49;00m\u001b[43m \u001b[49m\u001b[43mcount\u001b[49m\u001b[43m,\u001b[49m\u001b[43m \u001b[49m\u001b[43mmessage\u001b[49m\u001b[43m \u001b[49m\u001b[38;5;129;43;01min\u001b[39;49;00m\u001b[43m \u001b[49m\u001b[38;5;28;43menumerate\u001b[39;49m\u001b[43m(\u001b[49m\u001b[43mmessages\u001b[49m\u001b[43m,\u001b[49m\u001b[43m \u001b[49m\u001b[43mstart\u001b[49m\u001b[43m=\u001b[49m\u001b[32;43m1\u001b[39;49m\u001b[43m)\u001b[49m\u001b[43m:\u001b[49m\n\u001b[32m    262\u001b[39m \u001b[43m    \u001b[49m\u001b[38;5;66;43;03m# Yield the message immediately.\u001b[39;49;00m\n\u001b[32m    263\u001b[39m \u001b[43m    \u001b[49m\u001b[38;5;28;43;01myield\u001b[39;49;00m\u001b[43m \u001b[49m\u001b[43mmessage\u001b[49m\n\u001b[32m    265\u001b[39m \u001b[43m    \u001b[49m\u001b[38;5;28;43;01mif\u001b[39;49;00m\u001b[43m \u001b[49m\u001b[43mmessage\u001b[49m\u001b[43m.\u001b[49m\u001b[43mrecord\u001b[49m\u001b[43m:\u001b[49m\n\u001b[32m    266\u001b[39m \u001b[43m        \u001b[49m\u001b[38;5;66;43;03m# If this is the first record, set the start time.\u001b[39;49;00m\n",
      "\u001b[36mFile \u001b[39m\u001b[32m~\\Stage_Eviden\\myenv\\Lib\\site-packages\\airbyte\\_connector_base.py:462\u001b[39m, in \u001b[36mConnectorBase._execute\u001b[39m\u001b[34m(self, args, stdin, progress_tracker)\u001b[39m\n\u001b[32m    453\u001b[39m     \u001b[38;5;28;01mraise\u001b[39;00m exc.AirbyteConnectorFailedError(\n\u001b[32m    454\u001b[39m         connector_name=\u001b[38;5;28mself\u001b[39m.name,\n\u001b[32m    455\u001b[39m         log_text=ex.log_text,\n\u001b[32m   (...)\u001b[39m\u001b[32m    458\u001b[39m         },\n\u001b[32m    459\u001b[39m     ) \u001b[38;5;28;01mfrom\u001b[39;00m\u001b[38;5;250m \u001b[39m\u001b[38;5;28;01mNone\u001b[39;00m\n\u001b[32m    460\u001b[39m \u001b[38;5;28;01mexcept\u001b[39;00m \u001b[38;5;167;01mException\u001b[39;00m \u001b[38;5;28;01mas\u001b[39;00m e:\n\u001b[32m    461\u001b[39m     \u001b[38;5;66;03m# This is an unexpected error, so wrap the original exception when raising.\u001b[39;00m\n\u001b[32m--> \u001b[39m\u001b[32m462\u001b[39m     \u001b[38;5;28;01mraise\u001b[39;00m exc.AirbyteConnectorFailedError(\n\u001b[32m    463\u001b[39m         connector_name=\u001b[38;5;28mself\u001b[39m.name,\n\u001b[32m    464\u001b[39m         log_text=\u001b[38;5;28mself\u001b[39m._last_log_messages,\n\u001b[32m    465\u001b[39m         original_exception=e,\n\u001b[32m    466\u001b[39m     ) \u001b[38;5;28;01mfrom\u001b[39;00m\u001b[38;5;250m \u001b[39m\u001b[38;5;28;01mNone\u001b[39;00m\n",
      "\u001b[31mAirbyteConnectorFailedError\u001b[39m: Connector failed. (AirbyteConnectorFailedError)\n------------------------------------------------------------\nAirbyteConnectorFailedError: Connector failed.\n    Please review the log file for more information.\n    Connector Name: 'source-yahoo-finance-price'\n------------------------------------------------------------\nCaused by: None\n    Log file: C:\\Users\\a940591\\AppData\\Local\\Temp\\airbyte\\logs\\source-yahoo-finance-price\\source-yahoo-finance-price-log-JVCJ18ZFX.log"
     ]
    }
   ],
   "source": [
    "cache = ab.get_default_cache()\n",
    "result = source.read(cache=cache)"
   ]
  },
  {
   "cell_type": "code",
   "execution_count": null,
   "id": "78ec4e07-94cb-484c-a9df-b66503148c47",
   "metadata": {},
   "outputs": [],
   "source": [
    "df = cache[\"price\"].to_pandas()"
   ]
  },
  {
   "cell_type": "code",
   "execution_count": 6,
   "id": "7ca54001-1f40-4e05-868e-3c18e8bf7565",
   "metadata": {},
   "outputs": [
    {
     "ename": "NameError",
     "evalue": "name 'df' is not defined",
     "output_type": "error",
     "traceback": [
      "\u001b[31m---------------------------------------------------------------------------\u001b[39m",
      "\u001b[31mNameError\u001b[39m                                 Traceback (most recent call last)",
      "\u001b[36mCell\u001b[39m\u001b[36m \u001b[39m\u001b[32mIn[6]\u001b[39m\u001b[32m, line 1\u001b[39m\n\u001b[32m----> \u001b[39m\u001b[32m1\u001b[39m \u001b[38;5;28mprint\u001b[39m(\u001b[43mdf\u001b[49m)\n",
      "\u001b[31mNameError\u001b[39m: name 'df' is not defined"
     ]
    }
   ],
   "source": [
    "print(df)"
   ]
  },
  {
   "cell_type": "code",
   "execution_count": null,
   "id": "f4b1c16d-b600-4d3a-8dd7-9f89d4545b60",
   "metadata": {},
   "outputs": [],
   "source": []
  }
 ],
 "metadata": {
  "kernelspec": {
   "display_name": "Python 3 (ipykernel)",
   "language": "python",
   "name": "python3"
  },
  "language_info": {
   "codemirror_mode": {
    "name": "ipython",
    "version": 3
   },
   "file_extension": ".py",
   "mimetype": "text/x-python",
   "name": "python",
   "nbconvert_exporter": "python",
   "pygments_lexer": "ipython3",
   "version": "3.12.10"
  }
 },
 "nbformat": 4,
 "nbformat_minor": 5
}
